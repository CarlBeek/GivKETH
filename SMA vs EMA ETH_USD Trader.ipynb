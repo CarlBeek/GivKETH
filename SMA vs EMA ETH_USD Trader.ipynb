{
 "cells": [
  {
   "cell_type": "markdown",
   "metadata": {},
   "source": [
    "# An attempt at a bot that trades ETH/USD based on SMA vs EMA"
   ]
  },
  {
   "cell_type": "code",
   "execution_count": 1,
   "metadata": {},
   "outputs": [],
   "source": [
    "import numpy as np\n",
    "import json\n",
    "import requests\n",
    "import time\n",
    "import matplotlib.pyplot as plt"
   ]
  },
  {
   "cell_type": "markdown",
   "metadata": {},
   "source": [
    "## Import JSON data from external source\n",
    "The price can be found at https://etherchain.org/api/statistics/price\n",
    "\n",
    "\n",
    "It is in the form: `{'time': '2017-08-09T08:52:45.000Z', 'usd': 303.79}`"
   ]
  },
  {
   "cell_type": "code",
   "execution_count": 2,
   "metadata": {},
   "outputs": [],
   "source": [
    "response = requests.get(\"https://etherchain.org/api/statistics/price\")\n",
    "json_data = json.loads(response.text)\n",
    "json_data = json_data[\"data\"]\n",
    "t=24; # sample rate (samples/day)"
   ]
  },
  {
   "cell_type": "markdown",
   "metadata": {},
   "source": [
    "## Process data:\n",
    "The data is then pulled into numpy arrays and the time is parsed as a UNIX Timestamp"
   ]
  },
  {
   "cell_type": "code",
   "execution_count": 3,
   "metadata": {},
   "outputs": [],
   "source": [
    "data = np.zeros((len(json_data), 2))\n",
    "for i, elem in enumerate(json_data):\n",
    "    time_stamp = int(time.mktime(time.strptime(elem['time'],'%Y-%m-%dT%H:%M:%S.000Z')))\n",
    "    data[i,0] = time_stamp\n",
    "    data[i,1] = elem['usd']"
   ]
  },
  {
   "cell_type": "markdown",
   "metadata": {},
   "source": [
    "## Define Averaging funtions:\n",
    "\n",
    "These are defined using convolution.\n",
    "\n",
    "Whether or not the Exponential Moving Average function is correct remains to be seen. It truncates after 3* window length, this is for speed purposes as well as being able to use convolution. "
   ]
  },
  {
   "cell_type": "code",
   "execution_count": 4,
   "metadata": {},
   "outputs": [],
   "source": [
    "def moving_avg (values, window):\n",
    "    weights = np.repeat(1.0, window)/window\n",
    "    sma = np.convolve(values, weights, 'valid')\n",
    "    # Pad with zeros to account for lost data in convolution\n",
    "    sma = np.concatenate((np.zeros(len(values) - len(sma)),sma),axis=0)\n",
    "    return sma\n",
    "\n",
    "\n",
    "def exp_moving_avg (values, window):\n",
    "    a = 2/(window+1) # EMA Decay rate\n",
    "    weights = a*np.power((1-a),range(window*3)) # w_{t-i} = a(1-a)^(i)\n",
    "    ema = np.convolve(values, weights,'valid')\n",
    "    # Pad with zeros to account for lost data in convolution\n",
    "    ema = np.concatenate((np.zeros(len(values) - len(ema)),ema),axis=0)\n",
    "    return ema"
   ]
  },
  {
   "cell_type": "markdown",
   "metadata": {},
   "source": [
    "## Append Moving Averages to Data:"
   ]
  },
  {
   "cell_type": "code",
   "execution_count": 5,
   "metadata": {},
   "outputs": [],
   "source": [
    "SMA_days = 5 # SMA window length [days]\n",
    "SMA_5_day = moving_avg(data[:,1], t*SMA_days)\n",
    "## change shape from (x,) to (x,1)\n",
    "SMA_5_day = SMA_5_day.reshape(len(SMA_5_day), 1)\n",
    "#data  = np.concatenate((data, SMA_5_day), axis=1)\n",
    "\n",
    "\n",
    "EMA_days = 9 # EMA window length [days]\n",
    "EMA_9_day = exp_moving_avg(data[:,1], EMA_days*t)\n",
    "## change shape from (x,) to (x,1)\n",
    "EMA_9_day = EMA_9_day.reshape(len(EMA_9_day), 1)\n",
    "data  = np.concatenate((data, SMA_5_day, EMA_9_day), axis=1)"
   ]
  },
  {
   "cell_type": "markdown",
   "metadata": {},
   "source": [
    "## Plot a bitch:"
   ]
  },
  {
   "cell_type": "code",
   "execution_count": 6,
   "metadata": {},
   "outputs": [
    {
     "data": {
      "image/png": "[encoded data removed]",
      "text/plain": [
       "<matplotlib.figure.Figure at 0x10b1e0630>"
      ]
     },
     "metadata": {},
     "output_type": "display_data"
    }
   ],
   "source": [
    "plt.plot(data[:,0],data[:,1], label='Hourly Price')\n",
    "plt.plot(data[:,0],data[:,2], label='5-day SMA')\n",
    "plt.plot(data[:,0],data[:,3], label='9-day EMA')\n",
    "plt.legend()\n",
    "plt.show()"
   ]
  },
  {
   "cell_type": "markdown",
   "metadata": {},
   "source": [
    "##### \n",
    "\n"
   ]
  },
  {
   "cell_type": "markdown",
   "metadata": {},
   "source": [
    "## Build a SMA/EMA Trading Bot:"
   ]
  },
  {
   "cell_type": "code",
   "execution_count": 7,
   "metadata": {},
   "outputs": [],
   "source": [
    "# Enter your initial tradaing params here\n",
    "eth_bal = 1;\n",
    "usd_bal = 0;\n",
    "entry_date = \"2017-01-01\" #%Y-%m-%d\n",
    "\n",
    "\n",
    "entry_timestamp = int(time.mktime(time.strptime(entry_date,'%Y-%m-%d')))\n",
    "eth_equiv_holdings = np.zeros(len(data))\n",
    "usd_equiv_holdings = np.zeros(len(data))\n",
    "eth_holdings = np.zeros(len(data))\n",
    "usd_holdings = np.zeros(len(data))\n",
    "\n",
    "for i, elem in enumerate(data):\n",
    "    # Hacky way of skipping over data before purchase time\n",
    "    if elem[0] < entry_timestamp: \n",
    "        continue\n",
    "    \n",
    "    #HODL: (BULL/BUY)\n",
    "    if (elem[2] > elem[3]) and usd_bal != 0:\n",
    "        eth_bal += usd_bal/elem[1]\n",
    "        usd_bal = 0;\n",
    "    #FUD: (BEAR/SELL)\n",
    "    elif (elem[2] < elem[3]) and eth_bal != 0:\n",
    "        usd_bal += eth_bal*elem[1]\n",
    "        eth_bal = 0\n",
    "    \n",
    "    # Calculate eth && usd equivalent Holdings:\n",
    "    if eth_bal == 0:\n",
    "        eth_equiv_holdings[i] = usd_bal/elem[1]\n",
    "        usd_equiv_holdings[i] = usd_bal\n",
    "    else:\n",
    "        eth_equiv_holdings[i] = eth_bal\n",
    "        usd_equiv_holdings[i] = eth_bal*elem[1]\n",
    "    # Store eth and usd actual holdings:\n",
    "    eth_holdings[i] = eth_bal\n",
    "    usd_holdings[i] = usd_bal"
   ]
  },
  {
   "cell_type": "markdown",
   "metadata": {},
   "source": [
    "## Plot a comparison between Trading bot && Hodling"
   ]
  },
  {
   "cell_type": "code",
   "execution_count": 8,
   "metadata": {},
   "outputs": [
    {
     "name": "stdout",
     "output_type": "stream",
     "text": [
      "Using matplotlib backend: MacOSX\n"
     ]
    }
   ],
   "source": [
    "%matplotlib\n",
    "fig, ax1 = plt.subplots()\n",
    "# ax1 scale is in USD\n",
    "ax1.plot(data[:,0],data[:,2], label='5-day SMA')\n",
    "ax1.plot(data[:,0],data[:,3], label='9-day EMA')\n",
    "ax1.plot(data[:,0],data[:,1], label='Hourly Price')\n",
    "ax1.plot(data[:,0], usd_equiv_holdings, label='NAV USD')\n",
    "ax1.plot(data[:,0], usd_holdings, label='USD bal')\n",
    "# Split axis for ETH scale:\n",
    "ax2 = ax1.twinx()\n",
    "ax2.plot(data[:,0], eth_equiv_holdings,'--', label='NAV ETH')\n",
    "ax2.plot(data[:,0], eth_holdings,'--', label='ETH bal')\n",
    "\n",
    "ax1.legend(loc=0)\n",
    "ax2.legend(loc=1)\n",
    "ax1.set_xlabel(\"Time Stamp\")\n",
    "ax1.set_ylabel(\"USD\")\n",
    "ax2.set_ylabel(\"ETH\")\n",
    "\n",
    "plt.show()"
   ]
  },
  {
   "cell_type": "code",
   "execution_count": null,
   "metadata": {},
   "outputs": [],
   "source": []
  },
  {
   "cell_type": "code",
   "execution_count": null,
   "metadata": {
    "collapsed": true
   },
   "outputs": [],
   "source": []
  }
 ],
 "metadata": {
  "kernelspec": {
   "display_name": "Python 3",
   "language": "python",
   "name": "python3"
  },
  "language_info": {
   "codemirror_mode": {
    "name": "ipython",
    "version": 3
   },
   "file_extension": ".py",
   "mimetype": "text/x-python",
   "name": "python",
   "nbconvert_exporter": "python",
   "pygments_lexer": "ipython3",
   "version": "3.6.2"
  }
 },
 "nbformat": 4,
 "nbformat_minor": 2
}
